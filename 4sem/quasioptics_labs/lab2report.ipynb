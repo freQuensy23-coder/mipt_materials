{
 "cells": [
  {
   "cell_type": "code",
   "execution_count": 23,
   "metadata": {
    "collapsed": true
   },
   "outputs": [
    {
     "name": "stdout",
     "output_type": "stream",
     "text": [
      "Requirement already satisfied: pandas in ./venv/lib/python3.10/site-packages (2.0.0)\r\n",
      "Requirement already satisfied: seaborn in ./venv/lib/python3.10/site-packages (0.12.2)\r\n",
      "Requirement already satisfied: numpy in ./venv/lib/python3.10/site-packages (1.24.2)\r\n",
      "Requirement already satisfied: matplotlib in ./venv/lib/python3.10/site-packages (3.7.1)\r\n",
      "Requirement already satisfied: sklearn in ./venv/lib/python3.10/site-packages (0.0.post4)\r\n",
      "Requirement already satisfied: sympy in ./venv/lib/python3.10/site-packages (1.11.1)\r\n",
      "Requirement already satisfied: plotly in ./venv/lib/python3.10/site-packages (5.14.1)\r\n",
      "Requirement already satisfied: python-dateutil>=2.8.2 in ./venv/lib/python3.10/site-packages (from pandas) (2.8.2)\r\n",
      "Requirement already satisfied: pytz>=2020.1 in ./venv/lib/python3.10/site-packages (from pandas) (2023.3)\r\n",
      "Requirement already satisfied: tzdata>=2022.1 in ./venv/lib/python3.10/site-packages (from pandas) (2023.3)\r\n",
      "Requirement already satisfied: contourpy>=1.0.1 in ./venv/lib/python3.10/site-packages (from matplotlib) (1.0.7)\r\n",
      "Requirement already satisfied: cycler>=0.10 in ./venv/lib/python3.10/site-packages (from matplotlib) (0.11.0)\r\n",
      "Requirement already satisfied: fonttools>=4.22.0 in ./venv/lib/python3.10/site-packages (from matplotlib) (4.39.3)\r\n",
      "Requirement already satisfied: kiwisolver>=1.0.1 in ./venv/lib/python3.10/site-packages (from matplotlib) (1.4.4)\r\n",
      "Requirement already satisfied: packaging>=20.0 in ./venv/lib/python3.10/site-packages (from matplotlib) (23.1)\r\n",
      "Requirement already satisfied: pillow>=6.2.0 in ./venv/lib/python3.10/site-packages (from matplotlib) (9.5.0)\r\n",
      "Requirement already satisfied: pyparsing>=2.3.1 in ./venv/lib/python3.10/site-packages (from matplotlib) (3.0.9)\r\n",
      "Requirement already satisfied: mpmath>=0.19 in ./venv/lib/python3.10/site-packages (from sympy) (1.3.0)\r\n",
      "Requirement already satisfied: tenacity>=6.2.0 in ./venv/lib/python3.10/site-packages (from plotly) (8.2.2)\r\n",
      "Requirement already satisfied: six>=1.5 in ./venv/lib/python3.10/site-packages (from python-dateutil>=2.8.2->pandas) (1.16.0)\r\n"
     ]
    }
   ],
   "source": [
    "!pip install pandas seaborn numpy matplotlib sklearn sympy plotly"
   ]
  },
  {
   "cell_type": "code",
   "execution_count": 24,
   "outputs": [],
   "source": [
    "import pandas as pd\n",
    "import seaborn as sns\n",
    "import numpy as np\n",
    "import matplotlib.pyplot as plt\n",
    "import plotly.express as px\n",
    "import plotly\n",
    "from sympy import *\n",
    "import matplotlib as mpl\n",
    "# Change plotly colors scheme\n",
    "plotly.io.templates.default = 'plotly_dark'"
   ],
   "metadata": {
    "collapsed": false
   }
  },
  {
   "cell_type": "code",
   "execution_count": 25,
   "outputs": [
    {
     "data": {
      "text/plain": "         d      I\n0    27.00  51.05\n1    26.50  52.14\n2    26.00  54.90\n3    25.50  58.80\n4    25.29  61.10\n..     ...    ...\n160   0.40  43.20\n161   0.30  42.90\n162   0.20  42.60\n163   0.10  42.20\n164   0.00  42.50\n\n[165 rows x 2 columns]",
      "text/html": "<div>\n<style scoped>\n    .dataframe tbody tr th:only-of-type {\n        vertical-align: middle;\n    }\n\n    .dataframe tbody tr th {\n        vertical-align: top;\n    }\n\n    .dataframe thead th {\n        text-align: right;\n    }\n</style>\n<table border=\"1\" class=\"dataframe\">\n  <thead>\n    <tr style=\"text-align: right;\">\n      <th></th>\n      <th>d</th>\n      <th>I</th>\n    </tr>\n  </thead>\n  <tbody>\n    <tr>\n      <th>0</th>\n      <td>27.00</td>\n      <td>51.05</td>\n    </tr>\n    <tr>\n      <th>1</th>\n      <td>26.50</td>\n      <td>52.14</td>\n    </tr>\n    <tr>\n      <th>2</th>\n      <td>26.00</td>\n      <td>54.90</td>\n    </tr>\n    <tr>\n      <th>3</th>\n      <td>25.50</td>\n      <td>58.80</td>\n    </tr>\n    <tr>\n      <th>4</th>\n      <td>25.29</td>\n      <td>61.10</td>\n    </tr>\n    <tr>\n      <th>...</th>\n      <td>...</td>\n      <td>...</td>\n    </tr>\n    <tr>\n      <th>160</th>\n      <td>0.40</td>\n      <td>43.20</td>\n    </tr>\n    <tr>\n      <th>161</th>\n      <td>0.30</td>\n      <td>42.90</td>\n    </tr>\n    <tr>\n      <th>162</th>\n      <td>0.20</td>\n      <td>42.60</td>\n    </tr>\n    <tr>\n      <th>163</th>\n      <td>0.10</td>\n      <td>42.20</td>\n    </tr>\n    <tr>\n      <th>164</th>\n      <td>0.00</td>\n      <td>42.50</td>\n    </tr>\n  </tbody>\n</table>\n<p>165 rows × 2 columns</p>\n</div>"
     },
     "execution_count": 25,
     "metadata": {},
     "output_type": "execute_result"
    }
   ],
   "source": [
    "data_string = \"\"\"27\t51.05\n",
    "26.5\t52.14\n",
    "26\t54.9\n",
    "25.5\t58.8\n",
    "25.29\t61.1\n",
    "24.9\t62.3\n",
    "24.57\t63\n",
    "24.2\t61.6\n",
    "24\t59.9\n",
    "23.83\t57.8\n",
    "23.67\t56\n",
    "23.5\t53.7\n",
    "23.35\t51.6\n",
    "23.24\t50\n",
    "23.1\t48.04\n",
    "22.95\t46.2\n",
    "22.85\t44.9\n",
    "22.7\t43.2\n",
    "22.6\t42.2\n",
    "22.4\t40.4\n",
    "22.25\t39\n",
    "22.05\t37.7\n",
    "21.5\t36.2\n",
    "21.33\t36.3\n",
    "21.25\t36.4\n",
    "21.1\t36.8\n",
    "20.9\t37.6\n",
    "20.75\t38.5\n",
    "20.55\t39.9\n",
    "20.5\t40.3\n",
    "20.35\t41.7\n",
    "20.2\t43.3\n",
    "20\t45.7\n",
    "19.85\t47.6\n",
    "19.65\t50.1\n",
    "19.5\t52\n",
    "19.35\t53.8\n",
    "19.25\t55\n",
    "19.15\t56.1\n",
    "19\t57.3\n",
    "18.85\t58.3\n",
    "18.7\t59\n",
    "18.5\t59.5\n",
    "18.35\t59.3\n",
    "18.25\t59.1\n",
    "18.15\t59.8\n",
    "18\t58.2\n",
    "17.8\t57\n",
    "17.6\t55.6\n",
    "17.45\t54.6\n",
    "17.35\t54\n",
    "17.2\t53\n",
    "17\t51.8\n",
    "16.8\t50.9\n",
    "16.6\t50.2\n",
    "16.4\t49.8\n",
    "16.2\t49.3\n",
    "16.1\t49.8\n",
    "16\t50\n",
    "15.85\t50.3\n",
    "15.6\t51.2\n",
    "15.45\t51.9\n",
    "15.3\t52.9\n",
    "15.15\t54\n",
    "15.05\t54.8\n",
    "14.9\t56\n",
    "14.8\t56.8\n",
    "14.65\t58.2\n",
    "14.5\t59.3\n",
    "14.35\t60.5\n",
    "14.2\t61.6\n",
    "14.05\t62.5\n",
    "13.95\t63\n",
    "13.85\t63.3\n",
    "13.75\t63.4\n",
    "13.65\t63.5\n",
    "13.55\t63.3\n",
    "13.45\t62.9\n",
    "13.35\t62.4\n",
    "13.2\t61.2\n",
    "13.1\t60.4\n",
    "12.95\t58.8\n",
    "12.8\t56.9\n",
    "12.7\t55.5\n",
    "12.6\t54.2\n",
    "12.5\t52.8\n",
    "12.35\t50.6\n",
    "12.25\t49.3\n",
    "12.15\t48\n",
    "12.05\t46.7\n",
    "11.9\t44.9\n",
    "11.8\t43.9\n",
    "11.7\t42.8\n",
    "11.5\t40.9\n",
    "11.3\t39.6\n",
    "11.1\t38.6\n",
    "10.9\t37.8\n",
    "10.7\t37.5\n",
    "10.5\t37.5\n",
    "10.4\t37.6\n",
    "10.2\t38.1\n",
    "10.1\t38.5\n",
    "10\t39.1\n",
    "9.8\t40.2\n",
    "9.6\t39.7\n",
    "9.4\t43.6\n",
    "9.2\t45.9\n",
    "9\t48.1\n",
    "8.85\t50.1\n",
    "8.7\t51.9\n",
    "8.5\t54.3\n",
    "8.3\t56.4\n",
    "8.1\t58.2\n",
    "8\t59.8\n",
    "7.85\t59.4\n",
    "7.7\t59.7\n",
    "7.5\t59.7\n",
    "7.3\t59.4\n",
    "7.15\t58.7\n",
    "7\t57.9\n",
    "6.85\t57\n",
    "6.7\t56.2\n",
    "6.6\t55.6\n",
    "6.4\t54.5\n",
    "6.2\t53.6\n",
    "6\t52.9\n",
    "5.8\t52\n",
    "5.7\t51.8\n",
    "5.6\t51.9\n",
    "5.5\t52\n",
    "5.3\t52.4\n",
    "5.1\t52.9\n",
    "5\t53.3\n",
    "4.8\t54.4\n",
    "4.6\t55.5\n",
    "4.4\t57.1\n",
    "4.2\t59\n",
    "4\t60.1\n",
    "3.8\t62.7\n",
    "3.6\t64.8\n",
    "3.4\t66\n",
    "3.3\t67\n",
    "3.2\t67.8\n",
    "3.1\t68.3\n",
    "3\t68.7\n",
    "2.9\t69\n",
    "2.7\t68.7\n",
    "2.5\t67.7\n",
    "2.4\t67.2\n",
    "2.2\t65\n",
    "2\t62.3\n",
    "1.8\t59.7\n",
    "1.65\t57.2\n",
    "1.5\t54.8\n",
    "1.3\t51.8\n",
    "1.2\t50.7\n",
    "1\t48.3\n",
    "0.8\t46.2\n",
    "0.6\t44.7\n",
    "0.5\t43.8\n",
    "0.4\t43.2\n",
    "0.3\t42.9\n",
    "0.2\t42.6\n",
    "0.1\t42.2\n",
    "0\t42.5\"\"\"\n",
    "data_string = data_string.replace(',', '.').replace(\" \", \"\\t\")\n",
    "dataframe = pd.DataFrame([x.split('\\t') for x in data_string.split('\\n')], columns=['d', 'I'])\n",
    "dataframe['d'] = dataframe['d'].astype(float)\n",
    "dataframe['I'] = dataframe['I'].astype(float)\n",
    "dataframe"
   ],
   "metadata": {
    "collapsed": false
   }
  },
  {
   "cell_type": "code",
   "execution_count": 26,
   "outputs": [
    {
     "data": {
      "text/plain": "Text(0, 0.5, 'I, ед')"
     },
     "execution_count": 26,
     "metadata": {},
     "output_type": "execute_result"
    },
    {
     "data": {
      "text/plain": "<Figure size 1000x200 with 1 Axes>",
      "image/png": "[encoded data removed]"
     },
     "metadata": {},
     "output_type": "display_data"
    }
   ],
   "source": [
    "# Increase the size of the plot\n",
    "plt.figure(figsize=(10, 2))\n",
    "# Decrease axis step\n",
    "plt.xticks(np.arange(dataframe['d'].min(), dataframe['d'].max(), 1))\n",
    "# Plot the data (points plot)\n",
    "sns.scatterplot(data=dataframe, x='d', y='I')\n",
    "plt.title('Зависимость I от d')\n",
    "plt.xlabel('d, мкм') # TODO\n",
    "plt.ylabel('I, ед')"
   ],
   "metadata": {
    "collapsed": false
   }
  },
  {
   "cell_type": "code",
   "execution_count": 27,
   "outputs": [
    {
     "data": {
      "application/vnd.plotly.v1+json": {
       "data": [
        {
         "hovertemplate": "d=%{x}<br>I=%{y}<extra></extra>",
         "legendgroup": "",
         "marker": {
          "color": "#636efa",
          "symbol": "circle"
         },
         "mode": "markers",
         "name": "",
         "orientation": "v",
         "showlegend": false,
         "x": [
          27.0,
          26.5,
          26.0,
          25.5,
          25.29,
          24.9,
          24.57,
          24.2,
          24.0,
          23.83,
          23.67,
          23.5,
          23.35,
          23.24,
          23.1,
          22.95,
          22.85,
          22.7,
          22.6,
          22.4,
          22.25,
          22.05,
          21.5,
          21.33,
          21.25,
          21.1,
          20.9,
          20.75,
          20.55,
          20.5,
          20.35,
          20.2,
          20.0,
          19.85,
          19.65,
          19.5,
          19.35,
          19.25,
          19.15,
          19.0,
          18.85,
          18.7,
          18.5,
          18.35,
          18.25,
          18.15,
          18.0,
          17.8,
          17.6,
          17.45,
          17.35,
          17.2,
          17.0,
          16.8,
          16.6,
          16.4,
          16.2,
          16.1,
          16.0,
          15.85,
          15.6,
          15.45,
          15.3,
          15.15,
          15.05,
          14.9,
          14.8,
          14.65,
          14.5,
          14.35,
          14.2,
          14.05,
          13.95,
          13.85,
          13.75,
          13.65,
          13.55,
          13.45,
          13.35,
          13.2,
          13.1,
          12.95,
          12.8,
          12.7,
          12.6,
          12.5,
          12.35,
          12.25,
          12.15,
          12.05,
          11.9,
          11.8,
          11.7,
          11.5,
          11.3,
          11.1,
          10.9,
          10.7,
          10.5,
          10.4,
          10.2,
          10.1,
          10.0,
          9.8,
          9.6,
          9.4,
          9.2,
          9.0,
          8.85,
          8.7,
          8.5,
          8.3,
          8.1,
          8.0,
          7.85,
          7.7,
          7.5,
          7.3,
          7.15,
          7.0,
          6.85,
          6.7,
          6.6,
          6.4,
          6.2,
          6.0,
          5.8,
          5.7,
          5.6,
          5.5,
          5.3,
          5.1,
          5.0,
          4.8,
          4.6,
          4.4,
          4.2,
          4.0,
          3.8,
          3.6,
          3.4,
          3.3,
          3.2,
          3.1,
          3.0,
          2.9,
          2.7,
          2.5,
          2.4,
          2.2,
          2.0,
          1.8,
          1.65,
          1.5,
          1.3,
          1.2,
          1.0,
          0.8,
          0.6,
          0.5,
          0.4,
          0.3,
          0.2,
          0.1,
          0.0
         ],
         "xaxis": "x",
         "y": [
          51.05,
          52.14,
          54.9,
          58.8,
          61.1,
          62.3,
          63.0,
          61.6,
          59.9,
          57.8,
          56.0,
          53.7,
          51.6,
          50.0,
          48.04,
          46.2,
          44.9,
          43.2,
          42.2,
          40.4,
          39.0,
          37.7,
          36.2,
          36.3,
          36.4,
          36.8,
          37.6,
          38.5,
          39.9,
          40.3,
          41.7,
          43.3,
          45.7,
          47.6,
          50.1,
          52.0,
          53.8,
          55.0,
          56.1,
          57.3,
          58.3,
          59.0,
          59.5,
          59.3,
          59.1,
          59.8,
          58.2,
          57.0,
          55.6,
          54.6,
          54.0,
          53.0,
          51.8,
          50.9,
          50.2,
          49.8,
          49.3,
          49.8,
          50.0,
          50.3,
          51.2,
          51.9,
          52.9,
          54.0,
          54.8,
          56.0,
          56.8,
          58.2,
          59.3,
          60.5,
          61.6,
          62.5,
          63.0,
          63.3,
          63.4,
          63.5,
          63.3,
          62.9,
          62.4,
          61.2,
          60.4,
          58.8,
          56.9,
          55.5,
          54.2,
          52.8,
          50.6,
          49.3,
          48.0,
          46.7,
          44.9,
          43.9,
          42.8,
          40.9,
          39.6,
          38.6,
          37.8,
          37.5,
          37.5,
          37.6,
          38.1,
          38.5,
          39.1,
          40.2,
          39.7,
          43.6,
          45.9,
          48.1,
          50.1,
          51.9,
          54.3,
          56.4,
          58.2,
          59.8,
          59.4,
          59.7,
          59.7,
          59.4,
          58.7,
          57.9,
          57.0,
          56.2,
          55.6,
          54.5,
          53.6,
          52.9,
          52.0,
          51.8,
          51.9,
          52.0,
          52.4,
          52.9,
          53.3,
          54.4,
          55.5,
          57.1,
          59.0,
          60.1,
          62.7,
          64.8,
          66.0,
          67.0,
          67.8,
          68.3,
          68.7,
          69.0,
          68.7,
          67.7,
          67.2,
          65.0,
          62.3,
          59.7,
          57.2,
          54.8,
          51.8,
          50.7,
          48.3,
          46.2,
          44.7,
          43.8,
          43.2,
          42.9,
          42.6,
          42.2,
          42.5
         ],
         "yaxis": "y",
         "type": "scatter"
        }
       ],
       "layout": {
        "template": {
         "data": {
          "histogram2dcontour": [
           {
            "type": "histogram2dcontour",
            "colorbar": {
             "outlinewidth": 0,
             "ticks": ""
            },
            "colorscale": [
             [
              0.0,
              "#0d0887"
             ],
             [
              0.1111111111111111,
              "#46039f"
             ],
             [
              0.2222222222222222,
              "#7201a8"
             ],
             [
              0.3333333333333333,
              "#9c179e"
             ],
             [
              0.4444444444444444,
              "#bd3786"
             ],
             [
              0.5555555555555556,
              "#d8576b"
             ],
             [
              0.6666666666666666,
              "#ed7953"
             ],
             [
              0.7777777777777778,
              "#fb9f3a"
             ],
             [
              0.8888888888888888,
              "#fdca26"
             ],
             [
              1.0,
              "#f0f921"
             ]
            ]
           }
          ],
          "choropleth": [
           {
            "type": "choropleth",
            "colorbar": {
             "outlinewidth": 0,
             "ticks": ""
            }
           }
          ],
          "histogram2d": [
           {
            "type": "histogram2d",
            "colorbar": {
             "outlinewidth": 0,
             "ticks": ""
            },
            "colorscale": [
             [
              0.0,
              "#0d0887"
             ],
             [
              0.1111111111111111,
              "#46039f"
             ],
             [
              0.2222222222222222,
              "#7201a8"
             ],
             [
              0.3333333333333333,
              "#9c179e"
             ],
             [
              0.4444444444444444,
              "#bd3786"
             ],
             [
              0.5555555555555556,
              "#d8576b"
             ],
             [
              0.6666666666666666,
              "#ed7953"
             ],
             [
              0.7777777777777778,
              "#fb9f3a"
             ],
             [
              0.8888888888888888,
              "#fdca26"
             ],
             [
              1.0,
              "#f0f921"
             ]
            ]
           }
          ],
          "heatmap": [
           {
            "type": "heatmap",
            "colorbar": {
             "outlinewidth": 0,
             "ticks": ""
            },
            "colorscale": [
             [
              0.0,
              "#0d0887"
             ],
             [
              0.1111111111111111,
              "#46039f"
             ],
             [
              0.2222222222222222,
              "#7201a8"
             ],
             [
              0.3333333333333333,
              "#9c179e"
             ],
             [
              0.4444444444444444,
              "#bd3786"
             ],
             [
              0.5555555555555556,
              "#d8576b"
             ],
             [
              0.6666666666666666,
              "#ed7953"
             ],
             [
              0.7777777777777778,
              "#fb9f3a"
             ],
             [
              0.8888888888888888,
              "#fdca26"
             ],
             [
              1.0,
              "#f0f921"
             ]
            ]
           }
          ],
          "heatmapgl": [
           {
            "type": "heatmapgl",
            "colorbar": {
             "outlinewidth": 0,
             "ticks": ""
            },
            "colorscale": [
             [
              0.0,
              "#0d0887"
             ],
             [
              0.1111111111111111,
              "#46039f"
             ],
             [
              0.2222222222222222,
              "#7201a8"
             ],
             [
              0.3333333333333333,
              "#9c179e"
             ],
             [
              0.4444444444444444,
              "#bd3786"
             ],
             [
              0.5555555555555556,
              "#d8576b"
             ],
             [
              0.6666666666666666,
              "#ed7953"
             ],
             [
              0.7777777777777778,
              "#fb9f3a"
             ],
             [
              0.8888888888888888,
              "#fdca26"
             ],
             [
              1.0,
              "#f0f921"
             ]
            ]
           }
          ],
          "contourcarpet": [
           {
            "type": "contourcarpet",
            "colorbar": {
             "outlinewidth": 0,
             "ticks": ""
            }
           }
          ],
          "contour": [
           {
            "type": "contour",
            "colorbar": {
             "outlinewidth": 0,
             "ticks": ""
            },
            "colorscale": [
             [
              0.0,
              "#0d0887"
             ],
             [
              0.1111111111111111,
              "#46039f"
             ],
             [
              0.2222222222222222,
              "#7201a8"
             ],
             [
              0.3333333333333333,
              "#9c179e"
             ],
             [
              0.4444444444444444,
              "#bd3786"
             ],
             [
              0.5555555555555556,
              "#d8576b"
             ],
             [
              0.6666666666666666,
              "#ed7953"
             ],
             [
              0.7777777777777778,
              "#fb9f3a"
             ],
             [
              0.8888888888888888,
              "#fdca26"
             ],
             [
              1.0,
              "#f0f921"
             ]
            ]
           }
          ],
          "surface": [
           {
            "type": "surface",
            "colorbar": {
             "outlinewidth": 0,
             "ticks": ""
            },
            "colorscale": [
             [
              0.0,
              "#0d0887"
             ],
             [
              0.1111111111111111,
              "#46039f"
             ],
             [
              0.2222222222222222,
              "#7201a8"
             ],
             [
              0.3333333333333333,
              "#9c179e"
             ],
             [
              0.4444444444444444,
              "#bd3786"
             ],
             [
              0.5555555555555556,
              "#d8576b"
             ],
             [
              0.6666666666666666,
              "#ed7953"
             ],
             [
              0.7777777777777778,
              "#fb9f3a"
             ],
             [
              0.8888888888888888,
              "#fdca26"
             ],
             [
              1.0,
              "#f0f921"
             ]
            ]
           }
          ],
          "mesh3d": [
           {
            "type": "mesh3d",
            "colorbar": {
             "outlinewidth": 0,
             "ticks": ""
            }
           }
          ],
          "scatter": [
           {
            "marker": {
             "line": {
              "color": "#283442"
             }
            },
            "type": "scatter"
           }
          ],
          "parcoords": [
           {
            "type": "parcoords",
            "line": {
             "colorbar": {
              "outlinewidth": 0,
              "ticks": ""
             }
            }
           }
          ],
          "scatterpolargl": [
           {
            "type": "scatterpolargl",
            "marker": {
             "colorbar": {
              "outlinewidth": 0,
              "ticks": ""
             }
            }
           }
          ],
          "bar": [
           {
            "error_x": {
             "color": "#f2f5fa"
            },
            "error_y": {
             "color": "#f2f5fa"
            },
            "marker": {
             "line": {
              "color": "rgb(17,17,17)",
              "width": 0.5
             },
             "pattern": {
              "fillmode": "overlay",
              "size": 10,
              "solidity": 0.2
             }
            },
            "type": "bar"
           }
          ],
          "scattergeo": [
           {
            "type": "scattergeo",
            "marker": {
             "colorbar": {
              "outlinewidth": 0,
              "ticks": ""
             }
            }
           }
          ],
          "scatterpolar": [
           {
            "type": "scatterpolar",
            "marker": {
             "colorbar": {
              "outlinewidth": 0,
              "ticks": ""
             }
            }
           }
          ],
          "histogram": [
           {
            "marker": {
             "pattern": {
              "fillmode": "overlay",
              "size": 10,
              "solidity": 0.2
             }
            },
            "type": "histogram"
           }
          ],
          "scattergl": [
           {
            "marker": {
             "line": {
              "color": "#283442"
             }
            },
            "type": "scattergl"
           }
          ],
          "scatter3d": [
           {
            "type": "scatter3d",
            "line": {
             "colorbar": {
              "outlinewidth": 0,
              "ticks": ""
             }
            },
            "marker": {
             "colorbar": {
              "outlinewidth": 0,
              "ticks": ""
             }
            }
           }
          ],
          "scattermapbox": [
           {
            "type": "scattermapbox",
            "marker": {
             "colorbar": {
              "outlinewidth": 0,
              "ticks": ""
             }
            }
           }
          ],
          "scatterternary": [
           {
            "type": "scatterternary",
            "marker": {
             "colorbar": {
              "outlinewidth": 0,
              "ticks": ""
             }
            }
           }
          ],
          "scattercarpet": [
           {
            "type": "scattercarpet",
            "marker": {
             "colorbar": {
              "outlinewidth": 0,
              "ticks": ""
             }
            }
           }
          ],
          "carpet": [
           {
            "aaxis": {
             "endlinecolor": "#A2B1C6",
             "gridcolor": "#506784",
             "linecolor": "#506784",
             "minorgridcolor": "#506784",
             "startlinecolor": "#A2B1C6"
            },
            "baxis": {
             "endlinecolor": "#A2B1C6",
             "gridcolor": "#506784",
             "linecolor": "#506784",
             "minorgridcolor": "#506784",
             "startlinecolor": "#A2B1C6"
            },
            "type": "carpet"
           }
          ],
          "table": [
           {
            "cells": {
             "fill": {
              "color": "#506784"
             },
             "line": {
              "color": "rgb(17,17,17)"
             }
            },
            "header": {
             "fill": {
              "color": "#2a3f5f"
             },
             "line": {
              "color": "rgb(17,17,17)"
             }
            },
            "type": "table"
           }
          ],
          "barpolar": [
           {
            "marker": {
             "line": {
              "color": "rgb(17,17,17)",
              "width": 0.5
             },
             "pattern": {
              "fillmode": "overlay",
              "size": 10,
              "solidity": 0.2
             }
            },
            "type": "barpolar"
           }
          ],
          "pie": [
           {
            "automargin": true,
            "type": "pie"
           }
          ]
         },
         "layout": {
          "autotypenumbers": "strict",
          "colorway": [
           "#636efa",
           "#EF553B",
           "#00cc96",
           "#ab63fa",
           "#FFA15A",
           "#19d3f3",
           "#FF6692",
           "#B6E880",
           "#FF97FF",
           "#FECB52"
          ],
          "font": {
           "color": "#f2f5fa"
          },
          "hovermode": "closest",
          "hoverlabel": {
           "align": "left"
          },
          "paper_bgcolor": "rgb(17,17,17)",
          "plot_bgcolor": "rgb(17,17,17)",
          "polar": {
           "bgcolor": "rgb(17,17,17)",
           "angularaxis": {
            "gridcolor": "#506784",
            "linecolor": "#506784",
            "ticks": ""
           },
           "radialaxis": {
            "gridcolor": "#506784",
            "linecolor": "#506784",
            "ticks": ""
           }
          },
          "ternary": {
           "bgcolor": "rgb(17,17,17)",
           "aaxis": {
            "gridcolor": "#506784",
            "linecolor": "#506784",
            "ticks": ""
           },
           "baxis": {
            "gridcolor": "#506784",
            "linecolor": "#506784",
            "ticks": ""
           },
           "caxis": {
            "gridcolor": "#506784",
            "linecolor": "#506784",
            "ticks": ""
           }
          },
          "coloraxis": {
           "colorbar": {
            "outlinewidth": 0,
            "ticks": ""
           }
          },
          "colorscale": {
           "sequential": [
            [
             0.0,
             "#0d0887"
            ],
            [
             0.1111111111111111,
             "#46039f"
            ],
            [
             0.2222222222222222,
             "#7201a8"
            ],
            [
             0.3333333333333333,
             "#9c179e"
            ],
            [
             0.4444444444444444,
             "#bd3786"
            ],
            [
             0.5555555555555556,
             "#d8576b"
            ],
            [
             0.6666666666666666,
             "#ed7953"
            ],
            [
             0.7777777777777778,
             "#fb9f3a"
            ],
            [
             0.8888888888888888,
             "#fdca26"
            ],
            [
             1.0,
             "#f0f921"
            ]
           ],
           "sequentialminus": [
            [
             0.0,
             "#0d0887"
            ],
            [
             0.1111111111111111,
             "#46039f"
            ],
            [
             0.2222222222222222,
             "#7201a8"
            ],
            [
             0.3333333333333333,
             "#9c179e"
            ],
            [
             0.4444444444444444,
             "#bd3786"
            ],
            [
             0.5555555555555556,
             "#d8576b"
            ],
            [
             0.6666666666666666,
             "#ed7953"
            ],
            [
             0.7777777777777778,
             "#fb9f3a"
            ],
            [
             0.8888888888888888,
             "#fdca26"
            ],
            [
             1.0,
             "#f0f921"
            ]
           ],
           "diverging": [
            [
             0,
             "#8e0152"
            ],
            [
             0.1,
             "#c51b7d"
            ],
            [
             0.2,
             "#de77ae"
            ],
            [
             0.3,
             "#f1b6da"
            ],
            [
             0.4,
             "#fde0ef"
            ],
            [
             0.5,
             "#f7f7f7"
            ],
            [
             0.6,
             "#e6f5d0"
            ],
            [
             0.7,
             "#b8e186"
            ],
            [
             0.8,
             "#7fbc41"
            ],
            [
             0.9,
             "#4d9221"
            ],
            [
             1,
             "#276419"
            ]
           ]
          },
          "xaxis": {
           "gridcolor": "#283442",
           "linecolor": "#506784",
           "ticks": "",
           "title": {
            "standoff": 15
           },
           "zerolinecolor": "#283442",
           "automargin": true,
           "zerolinewidth": 2
          },
          "yaxis": {
           "gridcolor": "#283442",
           "linecolor": "#506784",
           "ticks": "",
           "title": {
            "standoff": 15
           },
           "zerolinecolor": "#283442",
           "automargin": true,
           "zerolinewidth": 2
          },
          "scene": {
           "xaxis": {
            "backgroundcolor": "rgb(17,17,17)",
            "gridcolor": "#506784",
            "linecolor": "#506784",
            "showbackground": true,
            "ticks": "",
            "zerolinecolor": "#C8D4E3",
            "gridwidth": 2
           },
           "yaxis": {
            "backgroundcolor": "rgb(17,17,17)",
            "gridcolor": "#506784",
            "linecolor": "#506784",
            "showbackground": true,
            "ticks": "",
            "zerolinecolor": "#C8D4E3",
            "gridwidth": 2
           },
           "zaxis": {
            "backgroundcolor": "rgb(17,17,17)",
            "gridcolor": "#506784",
            "linecolor": "#506784",
            "showbackground": true,
            "ticks": "",
            "zerolinecolor": "#C8D4E3",
            "gridwidth": 2
           }
          },
          "shapedefaults": {
           "line": {
            "color": "#f2f5fa"
           }
          },
          "annotationdefaults": {
           "arrowcolor": "#f2f5fa",
           "arrowhead": 0,
           "arrowwidth": 1
          },
          "geo": {
           "bgcolor": "rgb(17,17,17)",
           "landcolor": "rgb(17,17,17)",
           "subunitcolor": "#506784",
           "showland": true,
           "showlakes": true,
           "lakecolor": "rgb(17,17,17)"
          },
          "title": {
           "x": 0.05
          },
          "updatemenudefaults": {
           "bgcolor": "#506784",
           "borderwidth": 0
          },
          "sliderdefaults": {
           "bgcolor": "#C8D4E3",
           "borderwidth": 1,
           "bordercolor": "rgb(17,17,17)",
           "tickwidth": 0
          },
          "mapbox": {
           "style": "dark"
          }
         }
        },
        "xaxis": {
         "anchor": "y",
         "domain": [
          0.0,
          1.0
         ],
         "title": {
          "text": "d"
         }
        },
        "yaxis": {
         "anchor": "x",
         "domain": [
          0.0,
          1.0
         ],
         "title": {
          "text": "I"
         }
        },
        "legend": {
         "tracegroupgap": 0
        },
        "margin": {
         "t": 60
        }
       },
       "config": {
        "plotlyServerURL": "https://plot.ly"
       }
      },
      "text/html": "<div>                            <div id=\"bfb57db5-4daf-4c9e-9f6c-13eea7c97f67\" class=\"plotly-graph-div\" style=\"height:525px; width:100%;\"></div>            <script type=\"text/javascript\">                require([\"plotly\"], function(Plotly) {                    window.PLOTLYENV=window.PLOTLYENV || {};                                    if (document.getElementById(\"bfb57db5-4daf-4c9e-9f6c-13eea7c97f67\")) {                    Plotly.newPlot(                        \"bfb57db5-4daf-4c9e-9f6c-13eea7c97f67\",                        [{\"hovertemplate\":\"d=%{x}<br>I=%{y}<extra></extra>\",\"legendgroup\":\"\",\"marker\":{\"color\":\"#636efa\",\"symbol\":\"circle\"},\"mode\":\"markers\",\"name\":\"\",\"orientation\":\"v\",\"showlegend\":false,\"x\":[27.0,26.5,26.0,25.5,25.29,24.9,24.57,24.2,24.0,23.83,23.67,23.5,23.35,23.24,23.1,22.95,22.85,22.7,22.6,22.4,22.25,22.05,21.5,21.33,21.25,21.1,20.9,20.75,20.55,20.5,20.35,20.2,20.0,19.85,19.65,19.5,19.35,19.25,19.15,19.0,18.85,18.7,18.5,18.35,18.25,18.15,18.0,17.8,17.6,17.45,17.35,17.2,17.0,16.8,16.6,16.4,16.2,16.1,16.0,15.85,15.6,15.45,15.3,15.15,15.05,14.9,14.8,14.65,14.5,14.35,14.2,14.05,13.95,13.85,13.75,13.65,13.55,13.45,13.35,13.2,13.1,12.95,12.8,12.7,12.6,12.5,12.35,12.25,12.15,12.05,11.9,11.8,11.7,11.5,11.3,11.1,10.9,10.7,10.5,10.4,10.2,10.1,10.0,9.8,9.6,9.4,9.2,9.0,8.85,8.7,8.5,8.3,8.1,8.0,7.85,7.7,7.5,7.3,7.15,7.0,6.85,6.7,6.6,6.4,6.2,6.0,5.8,5.7,5.6,5.5,5.3,5.1,5.0,4.8,4.6,4.4,4.2,4.0,3.8,3.6,3.4,3.3,3.2,3.1,3.0,2.9,2.7,2.5,2.4,2.2,2.0,1.8,1.65,1.5,1.3,1.2,1.0,0.8,0.6,0.5,0.4,0.3,0.2,0.1,0.0],\"xaxis\":\"x\",\"y\":[51.05,52.14,54.9,58.8,61.1,62.3,63.0,61.6,59.9,57.8,56.0,53.7,51.6,50.0,48.04,46.2,44.9,43.2,42.2,40.4,39.0,37.7,36.2,36.3,36.4,36.8,37.6,38.5,39.9,40.3,41.7,43.3,45.7,47.6,50.1,52.0,53.8,55.0,56.1,57.3,58.3,59.0,59.5,59.3,59.1,59.8,58.2,57.0,55.6,54.6,54.0,53.0,51.8,50.9,50.2,49.8,49.3,49.8,50.0,50.3,51.2,51.9,52.9,54.0,54.8,56.0,56.8,58.2,59.3,60.5,61.6,62.5,63.0,63.3,63.4,63.5,63.3,62.9,62.4,61.2,60.4,58.8,56.9,55.5,54.2,52.8,50.6,49.3,48.0,46.7,44.9,43.9,42.8,40.9,39.6,38.6,37.8,37.5,37.5,37.6,38.1,38.5,39.1,40.2,39.7,43.6,45.9,48.1,50.1,51.9,54.3,56.4,58.2,59.8,59.4,59.7,59.7,59.4,58.7,57.9,57.0,56.2,55.6,54.5,53.6,52.9,52.0,51.8,51.9,52.0,52.4,52.9,53.3,54.4,55.5,57.1,59.0,60.1,62.7,64.8,66.0,67.0,67.8,68.3,68.7,69.0,68.7,67.7,67.2,65.0,62.3,59.7,57.2,54.8,51.8,50.7,48.3,46.2,44.7,43.8,43.2,42.9,42.6,42.2,42.5],\"yaxis\":\"y\",\"type\":\"scatter\"}],                        {\"template\":{\"data\":{\"histogram2dcontour\":[{\"type\":\"histogram2dcontour\",\"colorbar\":{\"outlinewidth\":0,\"ticks\":\"\"},\"colorscale\":[[0.0,\"#0d0887\"],[0.1111111111111111,\"#46039f\"],[0.2222222222222222,\"#7201a8\"],[0.3333333333333333,\"#9c179e\"],[0.4444444444444444,\"#bd3786\"],[0.5555555555555556,\"#d8576b\"],[0.6666666666666666,\"#ed7953\"],[0.7777777777777778,\"#fb9f3a\"],[0.8888888888888888,\"#fdca26\"],[1.0,\"#f0f921\"]]}],\"choropleth\":[{\"type\":\"choropleth\",\"colorbar\":{\"outlinewidth\":0,\"ticks\":\"\"}}],\"histogram2d\":[{\"type\":\"histogram2d\",\"colorbar\":{\"outlinewidth\":0,\"ticks\":\"\"},\"colorscale\":[[0.0,\"#0d0887\"],[0.1111111111111111,\"#46039f\"],[0.2222222222222222,\"#7201a8\"],[0.3333333333333333,\"#9c179e\"],[0.4444444444444444,\"#bd3786\"],[0.5555555555555556,\"#d8576b\"],[0.6666666666666666,\"#ed7953\"],[0.7777777777777778,\"#fb9f3a\"],[0.8888888888888888,\"#fdca26\"],[1.0,\"#f0f921\"]]}],\"heatmap\":[{\"type\":\"heatmap\",\"colorbar\":{\"outlinewidth\":0,\"ticks\":\"\"},\"colorscale\":[[0.0,\"#0d0887\"],[0.1111111111111111,\"#46039f\"],[0.2222222222222222,\"#7201a8\"],[0.3333333333333333,\"#9c179e\"],[0.4444444444444444,\"#bd3786\"],[0.5555555555555556,\"#d8576b\"],[0.6666666666666666,\"#ed7953\"],[0.7777777777777778,\"#fb9f3a\"],[0.8888888888888888,\"#fdca26\"],[1.0,\"#f0f921\"]]}],\"heatmapgl\":[{\"type\":\"heatmapgl\",\"colorbar\":{\"outlinewidth\":0,\"ticks\":\"\"},\"colorscale\":[[0.0,\"#0d0887\"],[0.1111111111111111,\"#46039f\"],[0.2222222222222222,\"#7201a8\"],[0.3333333333333333,\"#9c179e\"],[0.4444444444444444,\"#bd3786\"],[0.5555555555555556,\"#d8576b\"],[0.6666666666666666,\"#ed7953\"],[0.7777777777777778,\"#fb9f3a\"],[0.8888888888888888,\"#fdca26\"],[1.0,\"#f0f921\"]]}],\"contourcarpet\":[{\"type\":\"contourcarpet\",\"colorbar\":{\"outlinewidth\":0,\"ticks\":\"\"}}],\"contour\":[{\"type\":\"contour\",\"colorbar\":{\"outlinewidth\":0,\"ticks\":\"\"},\"colorscale\":[[0.0,\"#0d0887\"],[0.1111111111111111,\"#46039f\"],[0.2222222222222222,\"#7201a8\"],[0.3333333333333333,\"#9c179e\"],[0.4444444444444444,\"#bd3786\"],[0.5555555555555556,\"#d8576b\"],[0.6666666666666666,\"#ed7953\"],[0.7777777777777778,\"#fb9f3a\"],[0.8888888888888888,\"#fdca26\"],[1.0,\"#f0f921\"]]}],\"surface\":[{\"type\":\"surface\",\"colorbar\":{\"outlinewidth\":0,\"ticks\":\"\"},\"colorscale\":[[0.0,\"#0d0887\"],[0.1111111111111111,\"#46039f\"],[0.2222222222222222,\"#7201a8\"],[0.3333333333333333,\"#9c179e\"],[0.4444444444444444,\"#bd3786\"],[0.5555555555555556,\"#d8576b\"],[0.6666666666666666,\"#ed7953\"],[0.7777777777777778,\"#fb9f3a\"],[0.8888888888888888,\"#fdca26\"],[1.0,\"#f0f921\"]]}],\"mesh3d\":[{\"type\":\"mesh3d\",\"colorbar\":{\"outlinewidth\":0,\"ticks\":\"\"}}],\"scatter\":[{\"marker\":{\"line\":{\"color\":\"#283442\"}},\"type\":\"scatter\"}],\"parcoords\":[{\"type\":\"parcoords\",\"line\":{\"colorbar\":{\"outlinewidth\":0,\"ticks\":\"\"}}}],\"scatterpolargl\":[{\"type\":\"scatterpolargl\",\"marker\":{\"colorbar\":{\"outlinewidth\":0,\"ticks\":\"\"}}}],\"bar\":[{\"error_x\":{\"color\":\"#f2f5fa\"},\"error_y\":{\"color\":\"#f2f5fa\"},\"marker\":{\"line\":{\"color\":\"rgb(17,17,17)\",\"width\":0.5},\"pattern\":{\"fillmode\":\"overlay\",\"size\":10,\"solidity\":0.2}},\"type\":\"bar\"}],\"scattergeo\":[{\"type\":\"scattergeo\",\"marker\":{\"colorbar\":{\"outlinewidth\":0,\"ticks\":\"\"}}}],\"scatterpolar\":[{\"type\":\"scatterpolar\",\"marker\":{\"colorbar\":{\"outlinewidth\":0,\"ticks\":\"\"}}}],\"histogram\":[{\"marker\":{\"pattern\":{\"fillmode\":\"overlay\",\"size\":10,\"solidity\":0.2}},\"type\":\"histogram\"}],\"scattergl\":[{\"marker\":{\"line\":{\"color\":\"#283442\"}},\"type\":\"scattergl\"}],\"scatter3d\":[{\"type\":\"scatter3d\",\"line\":{\"colorbar\":{\"outlinewidth\":0,\"ticks\":\"\"}},\"marker\":{\"colorbar\":{\"outlinewidth\":0,\"ticks\":\"\"}}}],\"scattermapbox\":[{\"type\":\"scattermapbox\",\"marker\":{\"colorbar\":{\"outlinewidth\":0,\"ticks\":\"\"}}}],\"scatterternary\":[{\"type\":\"scatterternary\",\"marker\":{\"colorbar\":{\"outlinewidth\":0,\"ticks\":\"\"}}}],\"scattercarpet\":[{\"type\":\"scattercarpet\",\"marker\":{\"colorbar\":{\"outlinewidth\":0,\"ticks\":\"\"}}}],\"carpet\":[{\"aaxis\":{\"endlinecolor\":\"#A2B1C6\",\"gridcolor\":\"#506784\",\"linecolor\":\"#506784\",\"minorgridcolor\":\"#506784\",\"startlinecolor\":\"#A2B1C6\"},\"baxis\":{\"endlinecolor\":\"#A2B1C6\",\"gridcolor\":\"#506784\",\"linecolor\":\"#506784\",\"minorgridcolor\":\"#506784\",\"startlinecolor\":\"#A2B1C6\"},\"type\":\"carpet\"}],\"table\":[{\"cells\":{\"fill\":{\"color\":\"#506784\"},\"line\":{\"color\":\"rgb(17,17,17)\"}},\"header\":{\"fill\":{\"color\":\"#2a3f5f\"},\"line\":{\"color\":\"rgb(17,17,17)\"}},\"type\":\"table\"}],\"barpolar\":[{\"marker\":{\"line\":{\"color\":\"rgb(17,17,17)\",\"width\":0.5},\"pattern\":{\"fillmode\":\"overlay\",\"size\":10,\"solidity\":0.2}},\"type\":\"barpolar\"}],\"pie\":[{\"automargin\":true,\"type\":\"pie\"}]},\"layout\":{\"autotypenumbers\":\"strict\",\"colorway\":[\"#636efa\",\"#EF553B\",\"#00cc96\",\"#ab63fa\",\"#FFA15A\",\"#19d3f3\",\"#FF6692\",\"#B6E880\",\"#FF97FF\",\"#FECB52\"],\"font\":{\"color\":\"#f2f5fa\"},\"hovermode\":\"closest\",\"hoverlabel\":{\"align\":\"left\"},\"paper_bgcolor\":\"rgb(17,17,17)\",\"plot_bgcolor\":\"rgb(17,17,17)\",\"polar\":{\"bgcolor\":\"rgb(17,17,17)\",\"angularaxis\":{\"gridcolor\":\"#506784\",\"linecolor\":\"#506784\",\"ticks\":\"\"},\"radialaxis\":{\"gridcolor\":\"#506784\",\"linecolor\":\"#506784\",\"ticks\":\"\"}},\"ternary\":{\"bgcolor\":\"rgb(17,17,17)\",\"aaxis\":{\"gridcolor\":\"#506784\",\"linecolor\":\"#506784\",\"ticks\":\"\"},\"baxis\":{\"gridcolor\":\"#506784\",\"linecolor\":\"#506784\",\"ticks\":\"\"},\"caxis\":{\"gridcolor\":\"#506784\",\"linecolor\":\"#506784\",\"ticks\":\"\"}},\"coloraxis\":{\"colorbar\":{\"outlinewidth\":0,\"ticks\":\"\"}},\"colorscale\":{\"sequential\":[[0.0,\"#0d0887\"],[0.1111111111111111,\"#46039f\"],[0.2222222222222222,\"#7201a8\"],[0.3333333333333333,\"#9c179e\"],[0.4444444444444444,\"#bd3786\"],[0.5555555555555556,\"#d8576b\"],[0.6666666666666666,\"#ed7953\"],[0.7777777777777778,\"#fb9f3a\"],[0.8888888888888888,\"#fdca26\"],[1.0,\"#f0f921\"]],\"sequentialminus\":[[0.0,\"#0d0887\"],[0.1111111111111111,\"#46039f\"],[0.2222222222222222,\"#7201a8\"],[0.3333333333333333,\"#9c179e\"],[0.4444444444444444,\"#bd3786\"],[0.5555555555555556,\"#d8576b\"],[0.6666666666666666,\"#ed7953\"],[0.7777777777777778,\"#fb9f3a\"],[0.8888888888888888,\"#fdca26\"],[1.0,\"#f0f921\"]],\"diverging\":[[0,\"#8e0152\"],[0.1,\"#c51b7d\"],[0.2,\"#de77ae\"],[0.3,\"#f1b6da\"],[0.4,\"#fde0ef\"],[0.5,\"#f7f7f7\"],[0.6,\"#e6f5d0\"],[0.7,\"#b8e186\"],[0.8,\"#7fbc41\"],[0.9,\"#4d9221\"],[1,\"#276419\"]]},\"xaxis\":{\"gridcolor\":\"#283442\",\"linecolor\":\"#506784\",\"ticks\":\"\",\"title\":{\"standoff\":15},\"zerolinecolor\":\"#283442\",\"automargin\":true,\"zerolinewidth\":2},\"yaxis\":{\"gridcolor\":\"#283442\",\"linecolor\":\"#506784\",\"ticks\":\"\",\"title\":{\"standoff\":15},\"zerolinecolor\":\"#283442\",\"automargin\":true,\"zerolinewidth\":2},\"scene\":{\"xaxis\":{\"backgroundcolor\":\"rgb(17,17,17)\",\"gridcolor\":\"#506784\",\"linecolor\":\"#506784\",\"showbackground\":true,\"ticks\":\"\",\"zerolinecolor\":\"#C8D4E3\",\"gridwidth\":2},\"yaxis\":{\"backgroundcolor\":\"rgb(17,17,17)\",\"gridcolor\":\"#506784\",\"linecolor\":\"#506784\",\"showbackground\":true,\"ticks\":\"\",\"zerolinecolor\":\"#C8D4E3\",\"gridwidth\":2},\"zaxis\":{\"backgroundcolor\":\"rgb(17,17,17)\",\"gridcolor\":\"#506784\",\"linecolor\":\"#506784\",\"showbackground\":true,\"ticks\":\"\",\"zerolinecolor\":\"#C8D4E3\",\"gridwidth\":2}},\"shapedefaults\":{\"line\":{\"color\":\"#f2f5fa\"}},\"annotationdefaults\":{\"arrowcolor\":\"#f2f5fa\",\"arrowhead\":0,\"arrowwidth\":1},\"geo\":{\"bgcolor\":\"rgb(17,17,17)\",\"landcolor\":\"rgb(17,17,17)\",\"subunitcolor\":\"#506784\",\"showland\":true,\"showlakes\":true,\"lakecolor\":\"rgb(17,17,17)\"},\"title\":{\"x\":0.05},\"updatemenudefaults\":{\"bgcolor\":\"#506784\",\"borderwidth\":0},\"sliderdefaults\":{\"bgcolor\":\"#C8D4E3\",\"borderwidth\":1,\"bordercolor\":\"rgb(17,17,17)\",\"tickwidth\":0},\"mapbox\":{\"style\":\"dark\"}}},\"xaxis\":{\"anchor\":\"y\",\"domain\":[0.0,1.0],\"title\":{\"text\":\"d\"}},\"yaxis\":{\"anchor\":\"x\",\"domain\":[0.0,1.0],\"title\":{\"text\":\"I\"}},\"legend\":{\"tracegroupgap\":0},\"margin\":{\"t\":60}},                        {\"responsive\": true}                    ).then(function(){\n                            \nvar gd = document.getElementById('bfb57db5-4daf-4c9e-9f6c-13eea7c97f67');\nvar x = new MutationObserver(function (mutations, observer) {{\n        var display = window.getComputedStyle(gd).display;\n        if (!display || display === 'none') {{\n            console.log([gd, 'removed!']);\n            Plotly.purge(gd);\n            observer.disconnect();\n        }}\n}});\n\n// Listen for the removal of the full notebook cells\nvar notebookContainer = gd.closest('#notebook-container');\nif (notebookContainer) {{\n    x.observe(notebookContainer, {childList: true});\n}}\n\n// Listen for the clearing of the current output cell\nvar outputEl = gd.closest('.output');\nif (outputEl) {{\n    x.observe(outputEl, {childList: true});\n}}\n\n                        })                };                });            </script>        </div>"
     },
     "metadata": {},
     "output_type": "display_data"
    }
   ],
   "source": [
    "plotly.express.scatter(dataframe, x='d', y='I')"
   ],
   "metadata": {
    "collapsed": false
   }
  },
  {
   "cell_type": "code",
   "execution_count": 28,
   "outputs": [
    {
     "data": {
      "text/plain": "<Figure size 640x480 with 1 Axes>",
      "image/png": "[encoded data removed]"
     },
     "metadata": {},
     "output_type": "display_data"
    }
   ],
   "source": [
    "one_pic = dataframe[dataframe['d'] < 11]\n",
    "\n",
    "# Строим scatterplot\n",
    "plt.scatter(one_pic['d'], one_pic['I'], color='blue')\n",
    "\n",
    "# Строим plot I от d\n",
    "plt.plot(one_pic['d'], one_pic['I'], color='red')\n",
    "\n",
    "# Добавляем заголовок и подписи осей\n",
    "plt.title('Один пик зависимости I от d')\n",
    "plt.xlabel('d, мкм') # TODO\n",
    "plt.ylabel('I, ед')\n",
    "\n",
    "# Отображаем график\n",
    "plt.show()"
   ],
   "metadata": {
    "collapsed": false
   }
  },
  {
   "cell_type": "code",
   "execution_count": 29,
   "outputs": [
    {
     "data": {
      "text/plain": "10.850000000000001"
     },
     "execution_count": 29,
     "metadata": {},
     "output_type": "execute_result"
    }
   ],
   "source": [
    "d_maximums = [2.9, 13.75, 24.6]\n",
    "wave_lambda = 2 # 2 мм\n",
    "avg_delta_maximum_d = np.mean(np.diff(d_maximums))\n",
    "avg_delta_maximum_d"
   ],
   "metadata": {
    "collapsed": false
   }
  },
  {
   "cell_type": "code",
   "execution_count": 30,
   "outputs": [
    {
     "data": {
      "text/plain": "0.09216589861751151"
     },
     "execution_count": 30,
     "metadata": {},
     "output_type": "execute_result"
    }
   ],
   "source": [
    "wave_lambda/2/avg_delta_maximum_d"
   ],
   "metadata": {
    "collapsed": false
   }
  },
  {
   "cell_type": "code",
   "execution_count": 31,
   "outputs": [
    {
     "name": "stdout",
     "output_type": "stream",
     "text": [
      "Contrast 1.9060773480662982\n",
      "R = 0.159878344032364\n",
      "n = [0.428726648370674, 2.33248855372155]\n"
     ]
    }
   ],
   "source": [
    "contrast = (dataframe['I'].max() / dataframe['I'].min())\n",
    "print(f\"Contrast {contrast}\")\n",
    "n = symbols('n') # n - переменная\n",
    "R = symbols(\"R\")\n",
    "R = solve(contrast - (1 + R)**2/(1-R)** 2, R)[0]\n",
    "print(f\"R = {R}\")\n",
    "print(f\"n = {solve(R - (n - 1)**2/(n+1)**2, n)}\")\n"
   ],
   "metadata": {
    "collapsed": false
   }
  },
  {
   "cell_type": "markdown",
   "source": [],
   "metadata": {
    "collapsed": false
   }
  },
  {
   "cell_type": "code",
   "execution_count": 32,
   "outputs": [
    {
     "data": {
      "text/plain": "       d      I\n0   25.0  58.80\n1   24.8  58.85\n2   24.6  58.90\n3   24.4  58.80\n4   24.2  58.50\n..   ...    ...\n95   1.0  43.60\n96   0.5  38.30\n97   0.4  37.40\n98   0.2  36.60\n99   0.0  36.30\n\n[100 rows x 2 columns]",
      "text/html": "<div>\n<style scoped>\n    .dataframe tbody tr th:only-of-type {\n        vertical-align: middle;\n    }\n\n    .dataframe tbody tr th {\n        vertical-align: top;\n    }\n\n    .dataframe thead th {\n        text-align: right;\n    }\n</style>\n<table border=\"1\" class=\"dataframe\">\n  <thead>\n    <tr style=\"text-align: right;\">\n      <th></th>\n      <th>d</th>\n      <th>I</th>\n    </tr>\n  </thead>\n  <tbody>\n    <tr>\n      <th>0</th>\n      <td>25.0</td>\n      <td>58.80</td>\n    </tr>\n    <tr>\n      <th>1</th>\n      <td>24.8</td>\n      <td>58.85</td>\n    </tr>\n    <tr>\n      <th>2</th>\n      <td>24.6</td>\n      <td>58.90</td>\n    </tr>\n    <tr>\n      <th>3</th>\n      <td>24.4</td>\n      <td>58.80</td>\n    </tr>\n    <tr>\n      <th>4</th>\n      <td>24.2</td>\n      <td>58.50</td>\n    </tr>\n    <tr>\n      <th>...</th>\n      <td>...</td>\n      <td>...</td>\n    </tr>\n    <tr>\n      <th>95</th>\n      <td>1.0</td>\n      <td>43.60</td>\n    </tr>\n    <tr>\n      <th>96</th>\n      <td>0.5</td>\n      <td>38.30</td>\n    </tr>\n    <tr>\n      <th>97</th>\n      <td>0.4</td>\n      <td>37.40</td>\n    </tr>\n    <tr>\n      <th>98</th>\n      <td>0.2</td>\n      <td>36.60</td>\n    </tr>\n    <tr>\n      <th>99</th>\n      <td>0.0</td>\n      <td>36.30</td>\n    </tr>\n  </tbody>\n</table>\n<p>100 rows × 2 columns</p>\n</div>"
     },
     "execution_count": 32,
     "metadata": {},
     "output_type": "execute_result"
    }
   ],
   "source": [
    "data_attenuator = \"\"\"25\t58.8\n",
    "24.8\t58.85\n",
    "24.6\t58.9\n",
    "24.4\t58.8\n",
    "24.2\t58.5\n",
    "24\t57.4\n",
    "23.8\t55.7\n",
    "23.6\t53.5\n",
    "23\t44.8\n",
    "22.5\t38.4\n",
    "22.4\t37.4\n",
    "22.2\t35.6\n",
    "22\t34.2\n",
    "21.8\t33.2\n",
    "21.6\t32.6\n",
    "21.4\t32.3\n",
    "21.2\t32.3\n",
    "21\t32.6\n",
    "20.8\t33.3\n",
    "20.6\t34.3\n",
    "20.4\t35.6\n",
    "20.2\t37.2\n",
    "20\t39.2\n",
    "19.5\t44.6\n",
    "19\t49.4\n",
    "18.8\t50.7\n",
    "18.6\t51.7\n",
    "18.4\t52.2\n",
    "18.2\t52\n",
    "18\t51.6\n",
    "17.8\t50.8\n",
    "17.6\t49.7\n",
    "17.4\t48.6\n",
    "17.2\t47.4\n",
    "17\t46.2\n",
    "16.5\t44.5\n",
    "16\t44.6\n",
    "15.8\t45.1\n",
    "15.6\t45.6\n",
    "15.4\t46.5\n",
    "15.2\t47.8\n",
    "15\t49.4\n",
    "14.5\t53\n",
    "14.2\t55.2\n",
    "14\t56.3\n",
    "13.8\t57.3\n",
    "13.6\t57.6\n",
    "13.4\t57.2\n",
    "13.2\t56.4\n",
    "13\t54.8\n",
    "12.5\t48.6\n",
    "12\t41.1\n",
    "11.5\t35.3\n",
    "11.4\t34.6\n",
    "11.2\t33.3\n",
    "11\t32.4\n",
    "10.8\t31.5\n",
    "10.6\t31.3\n",
    "10.4\t31.2\n",
    "10.2\t31.7\n",
    "10\t32.3\n",
    "9.5\t35.3\n",
    "9\t40.2\n",
    "8.8\t42.6\n",
    "8.6\t44.6\n",
    "8.4\t46.8\n",
    "8.2\t48.9\n",
    "8\t50.7\n",
    "7.8\t51.8\n",
    "7.6\t52.5\n",
    "7.4\t52.5\n",
    "7\t51.5\n",
    "6.8\t50.5\n",
    "6.6\t49.5\n",
    "6.4\t48.3\n",
    "6.2\t47.4\n",
    "6\t46.7\n",
    "5.8\t46.1\n",
    "5.6\t45.8\n",
    "5.4\t45.8\n",
    "5.2\t46.1\n",
    "5\t46.7\n",
    "4.8\t47.6\n",
    "4.6\t48.7\n",
    "4.4\t50\n",
    "4.2\t51.6\n",
    "4\t53.3\n",
    "3.5\t57.8\n",
    "3\t61\n",
    "2.8\t61.5\n",
    "2.6\t61.5\n",
    "2.4\t60.9\n",
    "2.2\t59.4\n",
    "2\t57.3\n",
    "1.5\t50.5\n",
    "1\t43.6\n",
    "0.5\t38.3\n",
    "0.4\t37.4\n",
    "0.2\t36.6\n",
    "0\t36.3\"\"\".replace(\",\", \".\").replace(\" \", \"\\t\")\n",
    "dataframe_new = pd.DataFrame([x.split('\\t') for x in data_attenuator.split('\\n')], columns=['d', 'I'])\n",
    "dataframe_new['d'] = dataframe_new['d'].astype(float)\n",
    "dataframe_new['I'] = dataframe_new['I'].astype(float)\n",
    "dataframe_new"
   ],
   "metadata": {
    "collapsed": false
   }
  },
  {
   "cell_type": "code",
   "execution_count": 38,
   "outputs": [
    {
     "data": {
      "text/plain": "<matplotlib.legend.Legend at 0x7fa15f25d690>"
     },
     "execution_count": 38,
     "metadata": {},
     "output_type": "execute_result"
    },
    {
     "data": {
      "text/plain": "<Figure size 1600x400 with 1 Axes>",
      "image/png": "[encoded data removed]"
     },
     "metadata": {},
     "output_type": "display_data"
    }
   ],
   "source": [
    "# Сравни I(d) для dataframe и dataframe_new, построив один график\n",
    "plt.figure(figsize=(16, 4))\n",
    "plt.xticks(np.arange(dataframe['d'].min(), dataframe['d'].max(), 1))\n",
    "sns.scatterplot(data=dataframe, x='d', y='I', color='red')\n",
    "sns.scatterplot(data=dataframe_new, x='d', y='I', color='blue')\n",
    "plt.title('Зависимость I от d')\n",
    "plt.xlabel('d, мкм') # TODO\n",
    "plt.ylabel('I, ед')\n",
    "plt.legend(['без аттенюатора', 'с аттенюатором'])\n",
    "\n"
   ],
   "metadata": {
    "collapsed": false
   }
  },
  {
   "cell_type": "code",
   "execution_count": 33,
   "outputs": [],
   "source": [],
   "metadata": {
    "collapsed": false
   }
  },
  {
   "cell_type": "code",
   "execution_count": 33,
   "outputs": [],
   "source": [],
   "metadata": {
    "collapsed": false
   }
  }
 ],
 "metadata": {
  "kernelspec": {
   "display_name": "Python 3",
   "language": "python",
   "name": "python3"
  },
  "language_info": {
   "codemirror_mode": {
    "name": "ipython",
    "version": 2
   },
   "file_extension": ".py",
   "mimetype": "text/x-python",
   "name": "python",
   "nbconvert_exporter": "python",
   "pygments_lexer": "ipython2",
   "version": "2.7.6"
  }
 },
 "nbformat": 4,
 "nbformat_minor": 0
}
